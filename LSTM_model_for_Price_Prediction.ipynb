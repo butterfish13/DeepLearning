{
  "nbformat": 4,
  "nbformat_minor": 0,
  "metadata": {
    "colab": {
      "name": "LSTM model for Price Prediction.ipynb",
      "provenance": [],
      "authorship_tag": "ABX9TyM5K5q5DARj/K8dDr3bFT+4",
      "include_colab_link": true
    },
    "kernelspec": {
      "name": "python3",
      "display_name": "Python 3"
    },
    "language_info": {
      "name": "python"
    }
  },
  "cells": [
    {
      "cell_type": "markdown",
      "metadata": {
        "id": "view-in-github",
        "colab_type": "text"
      },
      "source": [
        "<a href=\"https://colab.research.google.com/github/butterfish13/DeepLearning/blob/main/LSTM_model_for_Price_Prediction.ipynb\" target=\"_parent\"><img src=\"https://colab.research.google.com/assets/colab-badge.svg\" alt=\"Open In Colab\"/></a>"
      ]
    },
    {
      "cell_type": "code",
      "metadata": {
        "id": "u597ZuuFT-5R"
      },
      "source": [
        "import pandas as pd\n",
        "import numpy as np\n",
        "import requests\n",
        "import matplotlib.pyplot as plt\n",
        "from sklearn.preprocessing import MinMaxScaler\n",
        "from tensorflow.keras.layers import Dense, Dropout, LSTM\n",
        "from tensorflow.keras.models import Sequential"
      ],
      "execution_count": null,
      "outputs": []
    },
    {
      "cell_type": "code",
      "metadata": {
        "id": "xZVi9In5-fg8"
      },
      "source": [
        "api_key = 'e8a1c8ac317244c093a922ac59019d9e'\n",
        "symbol = 'BTC/USD'\n",
        "interval = '5min'\n",
        "order = 'asc'\n",
        "start_date = '2021-10-10 00:00:00'\n",
        "end_date = '2021-10-25 00:00:00'\n",
        "\n",
        "api_url = f'https://api.twelvedata.com/time_series?symbol={symbol}&start_date={start_date}&end_date={end_date}&interval={interval}&order={order}&apikey={api_key}'"
      ],
      "execution_count": null,
      "outputs": []
    },
    {
      "cell_type": "code",
      "metadata": {
        "colab": {
          "base_uri": "https://localhost:8080/"
        },
        "id": "1AyFShbyA1V1",
        "outputId": "78eeb5fc-d71d-4371-a808-29cd3beae7e0"
      },
      "source": [
        "data = requests.get(api_url).json()\n",
        "data.keys()\n"
      ],
      "execution_count": null,
      "outputs": [
        {
          "output_type": "execute_result",
          "data": {
            "text/plain": [
              "dict_keys(['meta', 'values', 'status'])"
            ]
          },
          "metadata": {},
          "execution_count": 18
        }
      ]
    },
    {
      "cell_type": "code",
      "metadata": {
        "colab": {
          "base_uri": "https://localhost:8080/",
          "height": 424
        },
        "id": "u_Bx6oCxBBDp",
        "outputId": "910253a0-537d-43b0-93d7-4afd664feb57"
      },
      "source": [
        "wk_data = pd.DataFrame(data['values'])\n",
        "wk_data"
      ],
      "execution_count": null,
      "outputs": [
        {
          "output_type": "execute_result",
          "data": {
            "text/html": [
              "<div>\n",
              "<style scoped>\n",
              "    .dataframe tbody tr th:only-of-type {\n",
              "        vertical-align: middle;\n",
              "    }\n",
              "\n",
              "    .dataframe tbody tr th {\n",
              "        vertical-align: top;\n",
              "    }\n",
              "\n",
              "    .dataframe thead th {\n",
              "        text-align: right;\n",
              "    }\n",
              "</style>\n",
              "<table border=\"1\" class=\"dataframe\">\n",
              "  <thead>\n",
              "    <tr style=\"text-align: right;\">\n",
              "      <th></th>\n",
              "      <th>datetime</th>\n",
              "      <th>open</th>\n",
              "      <th>high</th>\n",
              "      <th>low</th>\n",
              "      <th>close</th>\n",
              "    </tr>\n",
              "  </thead>\n",
              "  <tbody>\n",
              "    <tr>\n",
              "      <th>0</th>\n",
              "      <td>2021-10-10 00:00:00</td>\n",
              "      <td>54949.19141</td>\n",
              "      <td>54949.19141</td>\n",
              "      <td>54862.92969</td>\n",
              "      <td>54892.67188</td>\n",
              "    </tr>\n",
              "    <tr>\n",
              "      <th>1</th>\n",
              "      <td>2021-10-10 00:05:00</td>\n",
              "      <td>54843.85156</td>\n",
              "      <td>54885.78906</td>\n",
              "      <td>54824.25000</td>\n",
              "      <td>54833.17188</td>\n",
              "    </tr>\n",
              "    <tr>\n",
              "      <th>2</th>\n",
              "      <td>2021-10-10 00:10:00</td>\n",
              "      <td>54869.96094</td>\n",
              "      <td>54884.55859</td>\n",
              "      <td>54820.89844</td>\n",
              "      <td>54861.55859</td>\n",
              "    </tr>\n",
              "    <tr>\n",
              "      <th>3</th>\n",
              "      <td>2021-10-10 00:15:00</td>\n",
              "      <td>54847.17188</td>\n",
              "      <td>55018.76953</td>\n",
              "      <td>54847.17188</td>\n",
              "      <td>55018.76953</td>\n",
              "    </tr>\n",
              "    <tr>\n",
              "      <th>4</th>\n",
              "      <td>2021-10-10 00:20:00</td>\n",
              "      <td>55049.98047</td>\n",
              "      <td>55108.46875</td>\n",
              "      <td>55049.98047</td>\n",
              "      <td>55084.21094</td>\n",
              "    </tr>\n",
              "    <tr>\n",
              "      <th>...</th>\n",
              "      <td>...</td>\n",
              "      <td>...</td>\n",
              "      <td>...</td>\n",
              "      <td>...</td>\n",
              "      <td>...</td>\n",
              "    </tr>\n",
              "    <tr>\n",
              "      <th>4297</th>\n",
              "      <td>2021-10-24 23:40:00</td>\n",
              "      <td>60823.42188</td>\n",
              "      <td>60845.87891</td>\n",
              "      <td>60816.76953</td>\n",
              "      <td>60828.55859</td>\n",
              "    </tr>\n",
              "    <tr>\n",
              "      <th>4298</th>\n",
              "      <td>2021-10-24 23:45:00</td>\n",
              "      <td>60802.53906</td>\n",
              "      <td>60870.35156</td>\n",
              "      <td>60778.82812</td>\n",
              "      <td>60870.35156</td>\n",
              "    </tr>\n",
              "    <tr>\n",
              "      <th>4299</th>\n",
              "      <td>2021-10-24 23:50:00</td>\n",
              "      <td>60893.71875</td>\n",
              "      <td>60907.10156</td>\n",
              "      <td>60825.85156</td>\n",
              "      <td>60825.85156</td>\n",
              "    </tr>\n",
              "    <tr>\n",
              "      <th>4300</th>\n",
              "      <td>2021-10-24 23:55:00</td>\n",
              "      <td>60839.98828</td>\n",
              "      <td>60927.92188</td>\n",
              "      <td>60839.98828</td>\n",
              "      <td>60868.64062</td>\n",
              "    </tr>\n",
              "    <tr>\n",
              "      <th>4301</th>\n",
              "      <td>2021-10-25 00:00:00</td>\n",
              "      <td>60854.07031</td>\n",
              "      <td>60961.19922</td>\n",
              "      <td>60776.57812</td>\n",
              "      <td>60785.30859</td>\n",
              "    </tr>\n",
              "  </tbody>\n",
              "</table>\n",
              "<p>4302 rows × 5 columns</p>\n",
              "</div>"
            ],
            "text/plain": [
              "                 datetime         open         high          low        close\n",
              "0     2021-10-10 00:00:00  54949.19141  54949.19141  54862.92969  54892.67188\n",
              "1     2021-10-10 00:05:00  54843.85156  54885.78906  54824.25000  54833.17188\n",
              "2     2021-10-10 00:10:00  54869.96094  54884.55859  54820.89844  54861.55859\n",
              "3     2021-10-10 00:15:00  54847.17188  55018.76953  54847.17188  55018.76953\n",
              "4     2021-10-10 00:20:00  55049.98047  55108.46875  55049.98047  55084.21094\n",
              "...                   ...          ...          ...          ...          ...\n",
              "4297  2021-10-24 23:40:00  60823.42188  60845.87891  60816.76953  60828.55859\n",
              "4298  2021-10-24 23:45:00  60802.53906  60870.35156  60778.82812  60870.35156\n",
              "4299  2021-10-24 23:50:00  60893.71875  60907.10156  60825.85156  60825.85156\n",
              "4300  2021-10-24 23:55:00  60839.98828  60927.92188  60839.98828  60868.64062\n",
              "4301  2021-10-25 00:00:00  60854.07031  60961.19922  60776.57812  60785.30859\n",
              "\n",
              "[4302 rows x 5 columns]"
            ]
          },
          "metadata": {},
          "execution_count": 19
        }
      ]
    },
    {
      "cell_type": "code",
      "metadata": {
        "id": "rq4l-OXlBXPa"
      },
      "source": [
        "scaler = MinMaxScaler(feature_range=(0,1))\n",
        "scaled_data = scaler.fit_transform(wk_data['close'].values.reshape(-1,1))"
      ],
      "execution_count": null,
      "outputs": []
    },
    {
      "cell_type": "code",
      "metadata": {
        "id": "EhucmMD6D7Mh"
      },
      "source": [
        "time_intervals_to_train = 24\n",
        "prediction_interval = 12\n",
        "\n",
        "\n",
        "x_train = []\n",
        "y_train = []"
      ],
      "execution_count": null,
      "outputs": []
    },
    {
      "cell_type": "code",
      "metadata": {
        "id": "7w_nP3WXFDVF"
      },
      "source": [
        "for i in range(time_intervals_to_train, len(scaled_data) - prediction_interval):\n",
        "  x_train.append(scaled_data[i - time_intervals_to_train: i, 0])\n",
        "  y_train.append(scaled_data[i + prediction_interval, 0])\n",
        "\n",
        "\n",
        "x_train = np.array(x_train)\n",
        "y_train = np.array(y_train)"
      ],
      "execution_count": null,
      "outputs": []
    },
    {
      "cell_type": "code",
      "metadata": {
        "colab": {
          "base_uri": "https://localhost:8080/"
        },
        "id": "l62_epZMGJqO",
        "outputId": "eedab504-1998-4b81-93cf-e87a11ea0300"
      },
      "source": [
        "x_train =np.reshape(x_train, (x_train.shape[0], x_train.shape[1], 1))\n",
        "x_train.shape"
      ],
      "execution_count": null,
      "outputs": [
        {
          "output_type": "execute_result",
          "data": {
            "text/plain": [
              "(4266, 24, 1)"
            ]
          },
          "metadata": {},
          "execution_count": 23
        }
      ]
    },
    {
      "cell_type": "code",
      "metadata": {
        "id": "JsVB8grwJNyd"
      },
      "source": [
        "model = Sequential()\n",
        "model.add(LSTM(128, return_sequences= True, input_shape = (x_train.shape[1], 1), activation= 'relu'))\n",
        "model.add(Dropout(0.4))\n",
        "model.add(LSTM(64, return_sequences= True, activation= 'relu'))\n",
        "model.add(Dropout(0.3))\n",
        "model.add(LSTM(32, activation= 'relu'))\n",
        "model.add(Dropout(0.2))\n",
        "model.add(Dense(1, activation = 'sigmoid'))"
      ],
      "execution_count": null,
      "outputs": []
    },
    {
      "cell_type": "code",
      "metadata": {
        "id": "9OqTa6hDJNpt"
      },
      "source": [
        "model.compile(loss= 'mean_squared_error', optimizer= 'adam', metrics = ['accuracy'])"
      ],
      "execution_count": null,
      "outputs": []
    },
    {
      "cell_type": "code",
      "metadata": {
        "colab": {
          "base_uri": "https://localhost:8080/"
        },
        "id": "3H2d_3hXLKON",
        "outputId": "062ec580-ac7a-452c-d052-a70d505fbbef"
      },
      "source": [
        "model.fit(x_train, y_train, epochs=10, batch_size= 64)"
      ],
      "execution_count": null,
      "outputs": [
        {
          "output_type": "stream",
          "name": "stdout",
          "text": [
            "Epoch 1/10\n",
            "67/67 [==============================] - 8s 72ms/step - loss: 0.0247 - accuracy: 2.3441e-04\n",
            "Epoch 2/10\n",
            "67/67 [==============================] - 5s 73ms/step - loss: 0.0032 - accuracy: 2.3441e-04\n",
            "Epoch 3/10\n",
            "67/67 [==============================] - 5s 73ms/step - loss: 0.0028 - accuracy: 2.3441e-04\n",
            "Epoch 4/10\n",
            "67/67 [==============================] - 5s 72ms/step - loss: 0.0028 - accuracy: 2.3441e-04\n",
            "Epoch 5/10\n",
            "67/67 [==============================] - 5s 72ms/step - loss: 0.0027 - accuracy: 2.3441e-04\n",
            "Epoch 6/10\n",
            "67/67 [==============================] - 5s 71ms/step - loss: 0.0027 - accuracy: 2.3441e-04\n",
            "Epoch 7/10\n",
            "67/67 [==============================] - 5s 72ms/step - loss: 0.0026 - accuracy: 2.3441e-04\n",
            "Epoch 8/10\n",
            "67/67 [==============================] - 5s 72ms/step - loss: 0.0025 - accuracy: 2.3441e-04\n",
            "Epoch 9/10\n",
            "67/67 [==============================] - 5s 72ms/step - loss: 0.0026 - accuracy: 2.3441e-04\n",
            "Epoch 10/10\n",
            "67/67 [==============================] - 5s 72ms/step - loss: 0.0025 - accuracy: 2.3441e-04\n"
          ]
        },
        {
          "output_type": "execute_result",
          "data": {
            "text/plain": [
              "<keras.callbacks.History at 0x7fece4e153d0>"
            ]
          },
          "metadata": {},
          "execution_count": 26
        }
      ]
    },
    {
      "cell_type": "code",
      "metadata": {
        "colab": {
          "base_uri": "https://localhost:8080/",
          "height": 424
        },
        "id": "T_px1MKzLk3A",
        "outputId": "93fea48f-1876-4f40-b680-e151ce0a0ce1"
      },
      "source": [
        "\n",
        "test_start_date = '2021-10-25 00:00:00'\n",
        "test_end_date = '2021-10-28 00:00:00'\n",
        "\n",
        "api_url = f'https://api.twelvedata.com/time_series?symbol={symbol}&start_date={test_start_date}&end_date={test_end_date}&interval={interval}&order={order}&apikey={api_key}'\n",
        "test_data = requests.get(api_url).json()\n",
        "ts_data = pd.DataFrame(test_data['values'])\n",
        "ts_data"
      ],
      "execution_count": null,
      "outputs": [
        {
          "output_type": "execute_result",
          "data": {
            "text/html": [
              "<div>\n",
              "<style scoped>\n",
              "    .dataframe tbody tr th:only-of-type {\n",
              "        vertical-align: middle;\n",
              "    }\n",
              "\n",
              "    .dataframe tbody tr th {\n",
              "        vertical-align: top;\n",
              "    }\n",
              "\n",
              "    .dataframe thead th {\n",
              "        text-align: right;\n",
              "    }\n",
              "</style>\n",
              "<table border=\"1\" class=\"dataframe\">\n",
              "  <thead>\n",
              "    <tr style=\"text-align: right;\">\n",
              "      <th></th>\n",
              "      <th>datetime</th>\n",
              "      <th>open</th>\n",
              "      <th>high</th>\n",
              "      <th>low</th>\n",
              "      <th>close</th>\n",
              "    </tr>\n",
              "  </thead>\n",
              "  <tbody>\n",
              "    <tr>\n",
              "      <th>0</th>\n",
              "      <td>2021-10-25 00:00:00</td>\n",
              "      <td>60854.07031</td>\n",
              "      <td>60961.19922</td>\n",
              "      <td>60776.57812</td>\n",
              "      <td>60785.30859</td>\n",
              "    </tr>\n",
              "    <tr>\n",
              "      <th>1</th>\n",
              "      <td>2021-10-25 00:05:00</td>\n",
              "      <td>60755.62891</td>\n",
              "      <td>60760.55078</td>\n",
              "      <td>60655.53125</td>\n",
              "      <td>60760.55078</td>\n",
              "    </tr>\n",
              "    <tr>\n",
              "      <th>2</th>\n",
              "      <td>2021-10-25 00:10:00</td>\n",
              "      <td>60816.41016</td>\n",
              "      <td>61116.39062</td>\n",
              "      <td>60816.41016</td>\n",
              "      <td>60983.25000</td>\n",
              "    </tr>\n",
              "    <tr>\n",
              "      <th>3</th>\n",
              "      <td>2021-10-25 00:15:00</td>\n",
              "      <td>61021.98047</td>\n",
              "      <td>61066.08984</td>\n",
              "      <td>60982.89844</td>\n",
              "      <td>60982.89844</td>\n",
              "    </tr>\n",
              "    <tr>\n",
              "      <th>4</th>\n",
              "      <td>2021-10-25 00:20:00</td>\n",
              "      <td>61002.58984</td>\n",
              "      <td>61002.58984</td>\n",
              "      <td>60858.78125</td>\n",
              "      <td>60872.30859</td>\n",
              "    </tr>\n",
              "    <tr>\n",
              "      <th>...</th>\n",
              "      <td>...</td>\n",
              "      <td>...</td>\n",
              "      <td>...</td>\n",
              "      <td>...</td>\n",
              "      <td>...</td>\n",
              "    </tr>\n",
              "    <tr>\n",
              "      <th>860</th>\n",
              "      <td>2021-10-27 23:40:00</td>\n",
              "      <td>58409.67188</td>\n",
              "      <td>58497.98828</td>\n",
              "      <td>58409.67188</td>\n",
              "      <td>58465.01172</td>\n",
              "    </tr>\n",
              "    <tr>\n",
              "      <th>861</th>\n",
              "      <td>2021-10-27 23:45:00</td>\n",
              "      <td>58479.87109</td>\n",
              "      <td>58573.50000</td>\n",
              "      <td>58449.12109</td>\n",
              "      <td>58543.94922</td>\n",
              "    </tr>\n",
              "    <tr>\n",
              "      <th>862</th>\n",
              "      <td>2021-10-27 23:50:00</td>\n",
              "      <td>58492.08984</td>\n",
              "      <td>58699.00000</td>\n",
              "      <td>58460.28906</td>\n",
              "      <td>58699.00000</td>\n",
              "    </tr>\n",
              "    <tr>\n",
              "      <th>863</th>\n",
              "      <td>2021-10-27 23:55:00</td>\n",
              "      <td>58695.41016</td>\n",
              "      <td>58695.41016</td>\n",
              "      <td>58409.82031</td>\n",
              "      <td>58431.16016</td>\n",
              "    </tr>\n",
              "    <tr>\n",
              "      <th>864</th>\n",
              "      <td>2021-10-28 00:00:00</td>\n",
              "      <td>58434.37891</td>\n",
              "      <td>58643.92969</td>\n",
              "      <td>58404.57812</td>\n",
              "      <td>58643.92969</td>\n",
              "    </tr>\n",
              "  </tbody>\n",
              "</table>\n",
              "<p>865 rows × 5 columns</p>\n",
              "</div>"
            ],
            "text/plain": [
              "                datetime         open         high          low        close\n",
              "0    2021-10-25 00:00:00  60854.07031  60961.19922  60776.57812  60785.30859\n",
              "1    2021-10-25 00:05:00  60755.62891  60760.55078  60655.53125  60760.55078\n",
              "2    2021-10-25 00:10:00  60816.41016  61116.39062  60816.41016  60983.25000\n",
              "3    2021-10-25 00:15:00  61021.98047  61066.08984  60982.89844  60982.89844\n",
              "4    2021-10-25 00:20:00  61002.58984  61002.58984  60858.78125  60872.30859\n",
              "..                   ...          ...          ...          ...          ...\n",
              "860  2021-10-27 23:40:00  58409.67188  58497.98828  58409.67188  58465.01172\n",
              "861  2021-10-27 23:45:00  58479.87109  58573.50000  58449.12109  58543.94922\n",
              "862  2021-10-27 23:50:00  58492.08984  58699.00000  58460.28906  58699.00000\n",
              "863  2021-10-27 23:55:00  58695.41016  58695.41016  58409.82031  58431.16016\n",
              "864  2021-10-28 00:00:00  58434.37891  58643.92969  58404.57812  58643.92969\n",
              "\n",
              "[865 rows x 5 columns]"
            ]
          },
          "metadata": {},
          "execution_count": 27
        }
      ]
    },
    {
      "cell_type": "code",
      "metadata": {
        "id": "Uk8COVkWN7M3"
      },
      "source": [
        "prices = pd.to_numeric(ts_data['close'], errors='coerce').values\n",
        "\n",
        "test_inputs = ts_data['close'].values\n",
        "test_inputs = test_inputs.reshape(-1,1)\n",
        "model_inputs = scaler.fit_transform(test_inputs)"
      ],
      "execution_count": null,
      "outputs": []
    },
    {
      "cell_type": "code",
      "metadata": {
        "colab": {
          "base_uri": "https://localhost:8080/"
        },
        "id": "BpTCfmRRPA0_",
        "outputId": "11ac8b23-1254-46e8-87d8-1a9da2e747ea"
      },
      "source": [
        "model_inputs.shape"
      ],
      "execution_count": null,
      "outputs": [
        {
          "output_type": "execute_result",
          "data": {
            "text/plain": [
              "(865, 1)"
            ]
          },
          "metadata": {},
          "execution_count": 32
        }
      ]
    },
    {
      "cell_type": "code",
      "metadata": {
        "id": "9NA3Eh8OPHXP"
      },
      "source": [
        "x_test = []\n",
        "\n",
        "for i in range(time_intervals_to_train, len(model_inputs)):\n",
        "  x_test.append(model_inputs[i - time_intervals_to_train:i, 0])\n",
        "\n",
        "\n",
        "x_test = np.array(x_test)\n",
        "x_test = np.reshape(x_test, (x_test.shape[0], x_test.shape[1], 1))"
      ],
      "execution_count": null,
      "outputs": []
    },
    {
      "cell_type": "code",
      "metadata": {
        "id": "PJmPhCPWPHNg"
      },
      "source": [
        "prediction_prices = model.predict(x_test)\n",
        "prediction_prices = scaler.inverse_transform(prediction_prices)"
      ],
      "execution_count": null,
      "outputs": []
    },
    {
      "cell_type": "code",
      "metadata": {
        "colab": {
          "base_uri": "https://localhost:8080/",
          "height": 295
        },
        "id": "OluqpRwDP9AC",
        "outputId": "6b7f9523-c43c-498c-f6b5-fee27c0bbf1c"
      },
      "source": [
        "plt.plot(prices, label = 'Bitcoin prices')\n",
        "plt.plot(prediction_prices, label = 'Predicted Prices')\n",
        "plt.title('Predicting Bit')\n",
        "plt.xlabel('5min Time Interval')\n",
        "plt.ylabel('Price')\n",
        "plt.legend()\n",
        "plt.show()"
      ],
      "execution_count": null,
      "outputs": [
        {
          "output_type": "display_data",
          "data": {
            "image/png": "[encoded data removed]",
            "text/plain": [
              "<Figure size 432x288 with 1 Axes>"
            ]
          },
          "metadata": {
            "needs_background": "light"
          }
        }
      ]
    },
    {
      "cell_type": "code",
      "metadata": {
        "id": "0vL-4gIsQiw3"
      },
      "source": [
        "last_data = model_inputs[len(model_inputs) + 1 - time_intervals_to_train : len(model_inputs) + 1, 0]\n",
        "last_data = np.array(last_data)"
      ],
      "execution_count": null,
      "outputs": []
    },
    {
      "cell_type": "code",
      "metadata": {
        "colab": {
          "base_uri": "https://localhost:8080/"
        },
        "id": "KiVfBZlzQ12N",
        "outputId": "d23c059e-1f76-408e-ad38-82ada6159d2d"
      },
      "source": [
        "last_data.shape"
      ],
      "execution_count": null,
      "outputs": [
        {
          "output_type": "execute_result",
          "data": {
            "text/plain": [
              "(23,)"
            ]
          },
          "metadata": {},
          "execution_count": 38
        }
      ]
    },
    {
      "cell_type": "code",
      "metadata": {
        "id": "y74f-BEJQ5pB"
      },
      "source": [
        "last_data = np.reshape(last_data, (1, last_data.shape[0], 1))"
      ],
      "execution_count": null,
      "outputs": []
    },
    {
      "cell_type": "code",
      "metadata": {
        "colab": {
          "base_uri": "https://localhost:8080/"
        },
        "id": "RY7M7XQVRJz_",
        "outputId": "9f10f15e-ed3e-4701-b706-a41e047275e6"
      },
      "source": [
        "prediction = model.predict(last_data)"
      ],
      "execution_count": null,
      "outputs": [
        {
          "output_type": "stream",
          "name": "stdout",
          "text": [
            "WARNING:tensorflow:Model was constructed with shape (None, 24, 1) for input KerasTensor(type_spec=TensorSpec(shape=(None, 24, 1), dtype=tf.float32, name='lstm_3_input'), name='lstm_3_input', description=\"created by layer 'lstm_3_input'\"), but it was called on an input with incompatible shape (None, 23, 1).\n"
          ]
        }
      ]
    },
    {
      "cell_type": "code",
      "metadata": {
        "id": "3wjrfHu0RQmw"
      },
      "source": [
        "prediction = scaler.inverse_transform(prediction)"
      ],
      "execution_count": null,
      "outputs": []
    },
    {
      "cell_type": "code",
      "metadata": {
        "colab": {
          "base_uri": "https://localhost:8080/"
        },
        "id": "F-xqFkIWRWR_",
        "outputId": "037ae55c-4104-43e3-8048-10cdedd9b0ae"
      },
      "source": [
        "prediction"
      ],
      "execution_count": null,
      "outputs": [
        {
          "output_type": "execute_result",
          "data": {
            "text/plain": [
              "array([[58565.367]], dtype=float32)"
            ]
          },
          "metadata": {},
          "execution_count": 42
        }
      ]
    }
  ]
}